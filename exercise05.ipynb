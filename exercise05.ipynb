{
 "cells": [
  {
   "cell_type": "markdown",
   "metadata": {},
   "source": [
    "# Weekly exercise 5: Improving Sieves of Eratosthenes algorithm\n",
    "\n",
    "Recall the following classic algorithm for finding all prime numbers\n",
    "up to a given upper boundary.\n",
    "\n",
    "Algorithm:\n",
    "1. initialize the list with all integers (1 to the given upper boundary)\n",
    "2. go through a list of divisors\n",
    "3. cross all numbers on the first list which are divisible by the considered divisor and not equal to it\n",
    "4. stop when all divisors (up to the given boundary) are considered, and so all divisible numbers are crossed out, leaving only primes"
   ]
  },
  {
   "cell_type": "markdown",
   "metadata": {},
   "source": [
    "## Task 1\n",
    "\n",
    "Start by implementing the following version of the algorithm, using the starter code below."
   ]
  },
  {
   "cell_type": "code",
   "execution_count": null,
   "metadata": {
    "hide-output": false
   },
   "outputs": [],
   "source": [
    "def eratosthenes(upper, verbosity = @@@):\n",
    "    \"\"\"Return the list of primes up the given upper bound using the sieve of Eratosthenes algorithm\"\"\"\n",
    "    primes = list(range(1,@@@)) # all numbers between 1 and upper\n",
    "    divisor = @@@ # initial divisor\n",
    "    while True: # loop until break is invoked\n",
    "        divisor += 1 # next divisor\n",
    "        if divisor > upper: # checked all divisors up to upper\n",
    "            @@@\n",
    "        i=0 # check for divisibility starting from the first element of remaining list\n",
    "        while i < len(primes): # until the end of the list (which changes length inside the loop)\n",
    "            if primes[i] @@@ divisor and primes[i] @@@ divisor == 0:\n",
    "                # remove divisible, except the divisor itself\n",
    "                primes.remove(primes[i]) # remove, next is with the same index\n",
    "            else:\n",
    "                i += 1 # skip to go to next element\n",
    "        if @@@: print(\"divisor %d:\"%divisor,primes)\n",
    "    if @@@: print(\"Primes up to %d are:\"%upper,primes)\n",
    "    return @@@"
   ]
  },
  {
   "cell_type": "code",
   "execution_count": 3,
   "metadata": {
    "hide-output": false
   },
   "outputs": [],
   "source": [
    "def eratosthenes(upper, verbosity = False):\n",
    "    \"\"\"Return the list of primes up the given upper bound using the sieve of Eratosthenes algorithm\"\"\"\n",
    "    primes = list(range(1,upper+1)) # all numbers between 1 and upper\n",
    "    divisor = 1 # initial divisor\n",
    "    while True:\n",
    "        divisor += 1 # next divisor\n",
    "        if divisor > upper: # checked all divisors  up to upper\n",
    "            break\n",
    "        i=0\n",
    "        while i < len(primes):\n",
    "            if primes[i] != divisor and primes[i] % divisor == 0:\n",
    "                primes.remove(primes[i]) # remove, next is with the same index\n",
    "            else:\n",
    "                i += 1 # skip to go to next\n",
    "        if verbosity: print(\"divisor %d:\"%divisor,primes)\n",
    "    if verbosity: print(\"Primes up to %d are:\"%upper,primes)\n",
    "    return primes"
   ]
  },
  {
   "cell_type": "markdown",
   "metadata": {},
   "source": [
    "To make sure the function is running as it is supposed to, run the\n",
    "tests below and confirm that the output is as expected."
   ]
  },
  {
   "cell_type": "code",
   "execution_count": 5,
   "metadata": {
    "hide-output": false
   },
   "outputs": [
    {
     "name": "stdout",
     "output_type": "stream",
     "text": [
      "divisor 2: [1, 2, 3, 5, 7, 9, 11, 13, 15, 17, 19, 21, 23, 25, 27, 29, 31, 33, 35, 37, 39, 41, 43, 45, 47, 49]\n",
      "divisor 3: [1, 2, 3, 5, 7, 11, 13, 17, 19, 23, 25, 29, 31, 35, 37, 41, 43, 47, 49]\n",
      "divisor 4: [1, 2, 3, 5, 7, 11, 13, 17, 19, 23, 25, 29, 31, 35, 37, 41, 43, 47, 49]\n",
      "divisor 5: [1, 2, 3, 5, 7, 11, 13, 17, 19, 23, 29, 31, 37, 41, 43, 47, 49]\n",
      "divisor 6: [1, 2, 3, 5, 7, 11, 13, 17, 19, 23, 29, 31, 37, 41, 43, 47, 49]\n",
      "divisor 7: [1, 2, 3, 5, 7, 11, 13, 17, 19, 23, 29, 31, 37, 41, 43, 47]\n",
      "divisor 8: [1, 2, 3, 5, 7, 11, 13, 17, 19, 23, 29, 31, 37, 41, 43, 47]\n",
      "divisor 9: [1, 2, 3, 5, 7, 11, 13, 17, 19, 23, 29, 31, 37, 41, 43, 47]\n",
      "divisor 10: [1, 2, 3, 5, 7, 11, 13, 17, 19, 23, 29, 31, 37, 41, 43, 47]\n",
      "divisor 11: [1, 2, 3, 5, 7, 11, 13, 17, 19, 23, 29, 31, 37, 41, 43, 47]\n",
      "divisor 12: [1, 2, 3, 5, 7, 11, 13, 17, 19, 23, 29, 31, 37, 41, 43, 47]\n",
      "divisor 13: [1, 2, 3, 5, 7, 11, 13, 17, 19, 23, 29, 31, 37, 41, 43, 47]\n",
      "divisor 14: [1, 2, 3, 5, 7, 11, 13, 17, 19, 23, 29, 31, 37, 41, 43, 47]\n",
      "divisor 15: [1, 2, 3, 5, 7, 11, 13, 17, 19, 23, 29, 31, 37, 41, 43, 47]\n",
      "divisor 16: [1, 2, 3, 5, 7, 11, 13, 17, 19, 23, 29, 31, 37, 41, 43, 47]\n",
      "divisor 17: [1, 2, 3, 5, 7, 11, 13, 17, 19, 23, 29, 31, 37, 41, 43, 47]\n",
      "divisor 18: [1, 2, 3, 5, 7, 11, 13, 17, 19, 23, 29, 31, 37, 41, 43, 47]\n",
      "divisor 19: [1, 2, 3, 5, 7, 11, 13, 17, 19, 23, 29, 31, 37, 41, 43, 47]\n",
      "divisor 20: [1, 2, 3, 5, 7, 11, 13, 17, 19, 23, 29, 31, 37, 41, 43, 47]\n",
      "divisor 21: [1, 2, 3, 5, 7, 11, 13, 17, 19, 23, 29, 31, 37, 41, 43, 47]\n",
      "divisor 22: [1, 2, 3, 5, 7, 11, 13, 17, 19, 23, 29, 31, 37, 41, 43, 47]\n",
      "divisor 23: [1, 2, 3, 5, 7, 11, 13, 17, 19, 23, 29, 31, 37, 41, 43, 47]\n",
      "divisor 24: [1, 2, 3, 5, 7, 11, 13, 17, 19, 23, 29, 31, 37, 41, 43, 47]\n",
      "divisor 25: [1, 2, 3, 5, 7, 11, 13, 17, 19, 23, 29, 31, 37, 41, 43, 47]\n",
      "divisor 26: [1, 2, 3, 5, 7, 11, 13, 17, 19, 23, 29, 31, 37, 41, 43, 47]\n",
      "divisor 27: [1, 2, 3, 5, 7, 11, 13, 17, 19, 23, 29, 31, 37, 41, 43, 47]\n",
      "divisor 28: [1, 2, 3, 5, 7, 11, 13, 17, 19, 23, 29, 31, 37, 41, 43, 47]\n",
      "divisor 29: [1, 2, 3, 5, 7, 11, 13, 17, 19, 23, 29, 31, 37, 41, 43, 47]\n",
      "divisor 30: [1, 2, 3, 5, 7, 11, 13, 17, 19, 23, 29, 31, 37, 41, 43, 47]\n",
      "divisor 31: [1, 2, 3, 5, 7, 11, 13, 17, 19, 23, 29, 31, 37, 41, 43, 47]\n",
      "divisor 32: [1, 2, 3, 5, 7, 11, 13, 17, 19, 23, 29, 31, 37, 41, 43, 47]\n",
      "divisor 33: [1, 2, 3, 5, 7, 11, 13, 17, 19, 23, 29, 31, 37, 41, 43, 47]\n",
      "divisor 34: [1, 2, 3, 5, 7, 11, 13, 17, 19, 23, 29, 31, 37, 41, 43, 47]\n",
      "divisor 35: [1, 2, 3, 5, 7, 11, 13, 17, 19, 23, 29, 31, 37, 41, 43, 47]\n",
      "divisor 36: [1, 2, 3, 5, 7, 11, 13, 17, 19, 23, 29, 31, 37, 41, 43, 47]\n",
      "divisor 37: [1, 2, 3, 5, 7, 11, 13, 17, 19, 23, 29, 31, 37, 41, 43, 47]\n",
      "divisor 38: [1, 2, 3, 5, 7, 11, 13, 17, 19, 23, 29, 31, 37, 41, 43, 47]\n",
      "divisor 39: [1, 2, 3, 5, 7, 11, 13, 17, 19, 23, 29, 31, 37, 41, 43, 47]\n",
      "divisor 40: [1, 2, 3, 5, 7, 11, 13, 17, 19, 23, 29, 31, 37, 41, 43, 47]\n",
      "divisor 41: [1, 2, 3, 5, 7, 11, 13, 17, 19, 23, 29, 31, 37, 41, 43, 47]\n",
      "divisor 42: [1, 2, 3, 5, 7, 11, 13, 17, 19, 23, 29, 31, 37, 41, 43, 47]\n",
      "divisor 43: [1, 2, 3, 5, 7, 11, 13, 17, 19, 23, 29, 31, 37, 41, 43, 47]\n",
      "divisor 44: [1, 2, 3, 5, 7, 11, 13, 17, 19, 23, 29, 31, 37, 41, 43, 47]\n",
      "divisor 45: [1, 2, 3, 5, 7, 11, 13, 17, 19, 23, 29, 31, 37, 41, 43, 47]\n",
      "divisor 46: [1, 2, 3, 5, 7, 11, 13, 17, 19, 23, 29, 31, 37, 41, 43, 47]\n",
      "divisor 47: [1, 2, 3, 5, 7, 11, 13, 17, 19, 23, 29, 31, 37, 41, 43, 47]\n",
      "divisor 48: [1, 2, 3, 5, 7, 11, 13, 17, 19, 23, 29, 31, 37, 41, 43, 47]\n",
      "divisor 49: [1, 2, 3, 5, 7, 11, 13, 17, 19, 23, 29, 31, 37, 41, 43, 47]\n",
      "divisor 50: [1, 2, 3, 5, 7, 11, 13, 17, 19, 23, 29, 31, 37, 41, 43, 47]\n",
      "Primes up to 50 are: [1, 2, 3, 5, 7, 11, 13, 17, 19, 23, 29, 31, 37, 41, 43, 47]\n"
     ]
    },
    {
     "data": {
      "text/plain": [
       "[1, 2, 3, 5, 7, 11, 13, 17, 19, 23, 29, 31, 37, 41, 43, 47]"
      ]
     },
     "execution_count": 5,
     "metadata": {},
     "output_type": "execute_result"
    }
   ],
   "source": [
    "eratosthenes(50,verbosity=True) #should print the steps of the algorithm"
   ]
  },
  {
   "cell_type": "code",
   "execution_count": 3,
   "metadata": {
    "hide-output": false
   },
   "outputs": [
    {
     "name": "stdout",
     "output_type": "stream",
     "text": [
      "[1, 2, 3, 5]\n"
     ]
    }
   ],
   "source": [
    "x = eratosthenes(5)\n",
    "print(x) #should print [2,3,5]"
   ]
  },
  {
   "cell_type": "code",
   "execution_count": 4,
   "metadata": {
    "hide-output": false
   },
   "outputs": [
    {
     "name": "stdout",
     "output_type": "stream",
     "text": [
      "Number of primes up to 2500 is  368\n"
     ]
    }
   ],
   "source": [
    "x = eratosthenes(2500)\n",
    "print('Number of primes up to 2500 is ',len(x)) #should print \"Number of primes up to 2500 is 368\""
   ]
  },
  {
   "cell_type": "markdown",
   "metadata": {},
   "source": [
    "## Task 2\n",
    "\n",
    "Use the code snippet from lecture video 9 to collect data on the runtime of the *eratosthenes()* as\n",
    "a function of the upper bound.\n",
    "Compute 25 runtime data points using the following sequence for the upper bound: 5, 10, 15, etc,\n",
    "and using 1000 functional calls to compute the average.\n",
    "\n",
    "Make a conjecture on the computational complexity of this algorithm."
   ]
  },
  {
   "cell_type": "code",
   "execution_count": null,
   "metadata": {
    "hide-output": false
   },
   "outputs": [],
   "source": [
    "import matplotlib.pyplot as plt\n",
    "%matplotlib inline\n",
    "plt.rcParams['figure.figsize'] = [12, 8]\n",
    "\n",
    "N = @@@\n",
    "n,x = [0,] @@@ N, [0,] @@@ N  # lists to accumulate the data\n",
    "for i,k in [(i,@@@) for i in range(N)]:\n",
    "    n[i] = k\n",
    "    t = @@@\n",
    "    x[i] = @@@\n",
    "\n",
    "plt.plot(n,x)\n",
    "plt.xlabel('upper bound')\n",
    "plt.ylabel('average run time, sec')\n",
    "plt.show()"
   ]
  },
  {
   "cell_type": "code",
   "execution_count": 6,
   "metadata": {
    "hide-output": false
   },
   "outputs": [
    {
     "name": "stdout",
     "output_type": "stream",
     "text": [
      "3.58 µs ± 275 ns per loop (mean ± std. dev. of 7 runs, 1000 loops each)\n",
      "10 µs ± 879 ns per loop (mean ± std. dev. of 7 runs, 1000 loops each)\n",
      "18.5 µs ± 652 ns per loop (mean ± std. dev. of 7 runs, 1000 loops each)\n",
      "32.2 µs ± 1.55 µs per loop (mean ± std. dev. of 7 runs, 1000 loops each)\n",
      "46.2 µs ± 1.26 µs per loop (mean ± std. dev. of 7 runs, 1000 loops each)\n",
      "56.3 µs ± 2.14 µs per loop (mean ± std. dev. of 7 runs, 1000 loops each)\n",
      "72.5 µs ± 2.51 µs per loop (mean ± std. dev. of 7 runs, 1000 loops each)\n",
      "87.9 µs ± 3.95 µs per loop (mean ± std. dev. of 7 runs, 1000 loops each)\n",
      "105 µs ± 3.75 µs per loop (mean ± std. dev. of 7 runs, 1000 loops each)\n",
      "124 µs ± 3.33 µs per loop (mean ± std. dev. of 7 runs, 1000 loops each)\n",
      "147 µs ± 8.24 µs per loop (mean ± std. dev. of 7 runs, 1000 loops each)\n",
      "165 µs ± 2.73 µs per loop (mean ± std. dev. of 7 runs, 1000 loops each)\n",
      "186 µs ± 3.27 µs per loop (mean ± std. dev. of 7 runs, 1000 loops each)\n",
      "209 µs ± 3.89 µs per loop (mean ± std. dev. of 7 runs, 1000 loops each)\n",
      "244 µs ± 4.81 µs per loop (mean ± std. dev. of 7 runs, 1000 loops each)\n",
      "280 µs ± 9.17 µs per loop (mean ± std. dev. of 7 runs, 1000 loops each)\n",
      "314 µs ± 12.8 µs per loop (mean ± std. dev. of 7 runs, 1000 loops each)\n",
      "346 µs ± 9.91 µs per loop (mean ± std. dev. of 7 runs, 1000 loops each)\n",
      "363 µs ± 8.23 µs per loop (mean ± std. dev. of 7 runs, 1000 loops each)\n",
      "422 µs ± 16.3 µs per loop (mean ± std. dev. of 7 runs, 1000 loops each)\n",
      "443 µs ± 2.3 µs per loop (mean ± std. dev. of 7 runs, 1000 loops each)\n",
      "523 µs ± 18 µs per loop (mean ± std. dev. of 7 runs, 1000 loops each)\n",
      "580 µs ± 21.8 µs per loop (mean ± std. dev. of 7 runs, 1000 loops each)\n",
      "576 µs ± 7.77 µs per loop (mean ± std. dev. of 7 runs, 1000 loops each)\n",
      "603 µs ± 18.7 µs per loop (mean ± std. dev. of 7 runs, 1000 loops each)\n"
     ]
    },
    {
     "data": {
      "image/png": "[encoded data removed]",
      "text/plain": [
       "<Figure size 864x576 with 1 Axes>"
      ]
     },
     "metadata": {
      "needs_background": "light"
     },
     "output_type": "display_data"
    }
   ],
   "source": [
    "import matplotlib.pyplot as plt\n",
    "%matplotlib inline\n",
    "plt.rcParams['figure.figsize'] = [12, 8]\n",
    "\n",
    "N = 25\n",
    "n,x = [0,]*N, [0,]*N  # lists to accumulate the data\n",
    "for i,k in [(i,5+5*i) for i in range(N)]:\n",
    "    n[i] = k\n",
    "    t = %timeit -n1000 -o eratosthenes(k)\n",
    "    x[i] = t.average\n",
    "\n",
    "plt.plot(n,x)\n",
    "plt.xlabel('upper bound')\n",
    "plt.ylabel('average run time, sec')\n",
    "plt.show()\n",
    "\n",
    "# See https://en.wikipedia.org/wiki/Sieve_of_Eratosthenes for numerical analysis"
   ]
  },
  {
   "cell_type": "markdown",
   "metadata": {},
   "source": [
    "## Task 3\n",
    "\n",
    "Copy your code from above and make the following improvements to the algorithm:\n",
    "\n",
    "1. Force divisors only be prime numbers themselves  \n",
    "1. When checking for divisibility, start from the square of the divisor instead of checking each one (why can we do it this way?)  \n",
    "1. Complete the algorithm when the starting point in previous step is above the upper bound  \n",
    "\n",
    "\n",
    "Run the same tests and make sure it the results are identical to the first implementation of the algorithm."
   ]
  },
  {
   "cell_type": "code",
   "execution_count": null,
   "metadata": {
    "hide-output": false
   },
   "outputs": [],
   "source": [
    "# Write your code here\n",
    "#"
   ]
  },
  {
   "cell_type": "code",
   "execution_count": 4,
   "metadata": {
    "hide-output": false
   },
   "outputs": [],
   "source": [
    "def eratosthenes_better(upper, verbosity = False):\n",
    "    \"\"\"Return the list of primes up the given upper bound using the sieve of Eratosthenes algorithm\"\"\"\n",
    "    primes = list(range(1,upper+1)) # all numbers between 1 and upper\n",
    "    idiv = 1 # index of the initial divisor, skip 1\n",
    "    while True:\n",
    "        divisor = primes[idiv] # next divisor comes from the list of primes\n",
    "        # next number that is not filtered out is not divisible by any number\n",
    "        # below 'divisor', thus it is divisor square!\n",
    "        if divisor**2 > upper: # next candidate for deletion is already above upper bound\n",
    "            break\n",
    "        i=idiv+1 # start filtering out from number next to the current divisor\n",
    "        while i < len(primes):\n",
    "            if primes[i] < divisor**2:\n",
    "                i += 1 # skip numbers below divisor square\n",
    "            elif primes[i] % divisor == 0:\n",
    "                primes.remove(primes[i]) # remove, do not increment index to go to next element\n",
    "            else:\n",
    "                i += 1 # go to next\n",
    "        idiv += 1 # index of next divisor from the list of remaining primes\n",
    "        if verbosity: print(\"divisor %d:\"%divisor,primes)\n",
    "    if verbosity: print(\"Primes up to %d are:\"%upper,primes)\n",
    "    return primes"
   ]
  },
  {
   "cell_type": "code",
   "execution_count": 5,
   "metadata": {
    "hide-output": false
   },
   "outputs": [
    {
     "name": "stdout",
     "output_type": "stream",
     "text": [
      "divisor 2: [1, 2, 3, 5, 7, 9, 11, 13, 15, 17, 19, 21, 23, 25]\n",
      "divisor 3: [1, 2, 3, 5, 7, 11, 13, 17, 19, 23, 25]\n",
      "divisor 4: [1, 2, 3, 5, 7, 11, 13, 17, 19, 23, 25]\n",
      "divisor 5: [1, 2, 3, 5, 7, 11, 13, 17, 19, 23]\n",
      "divisor 6: [1, 2, 3, 5, 7, 11, 13, 17, 19, 23]\n",
      "divisor 7: [1, 2, 3, 5, 7, 11, 13, 17, 19, 23]\n",
      "divisor 8: [1, 2, 3, 5, 7, 11, 13, 17, 19, 23]\n",
      "divisor 9: [1, 2, 3, 5, 7, 11, 13, 17, 19, 23]\n",
      "divisor 10: [1, 2, 3, 5, 7, 11, 13, 17, 19, 23]\n",
      "divisor 11: [1, 2, 3, 5, 7, 11, 13, 17, 19, 23]\n",
      "divisor 12: [1, 2, 3, 5, 7, 11, 13, 17, 19, 23]\n",
      "divisor 13: [1, 2, 3, 5, 7, 11, 13, 17, 19, 23]\n",
      "divisor 14: [1, 2, 3, 5, 7, 11, 13, 17, 19, 23]\n",
      "divisor 15: [1, 2, 3, 5, 7, 11, 13, 17, 19, 23]\n",
      "divisor 16: [1, 2, 3, 5, 7, 11, 13, 17, 19, 23]\n",
      "divisor 17: [1, 2, 3, 5, 7, 11, 13, 17, 19, 23]\n",
      "divisor 18: [1, 2, 3, 5, 7, 11, 13, 17, 19, 23]\n",
      "divisor 19: [1, 2, 3, 5, 7, 11, 13, 17, 19, 23]\n",
      "divisor 20: [1, 2, 3, 5, 7, 11, 13, 17, 19, 23]\n",
      "divisor 21: [1, 2, 3, 5, 7, 11, 13, 17, 19, 23]\n",
      "divisor 22: [1, 2, 3, 5, 7, 11, 13, 17, 19, 23]\n",
      "divisor 23: [1, 2, 3, 5, 7, 11, 13, 17, 19, 23]\n",
      "divisor 24: [1, 2, 3, 5, 7, 11, 13, 17, 19, 23]\n",
      "divisor 25: [1, 2, 3, 5, 7, 11, 13, 17, 19, 23]\n",
      "Primes up to 25 are: [1, 2, 3, 5, 7, 11, 13, 17, 19, 23]\n",
      "divisor 2: [1, 2, 3, 5, 7, 9, 11, 13, 15, 17, 19, 21, 23, 25]\n",
      "divisor 3: [1, 2, 3, 5, 7, 11, 13, 17, 19, 23, 25]\n",
      "divisor 5: [1, 2, 3, 5, 7, 11, 13, 17, 19, 23]\n",
      "Primes up to 25 are: [1, 2, 3, 5, 7, 11, 13, 17, 19, 23]\n"
     ]
    },
    {
     "data": {
      "text/plain": [
       "[1, 2, 3, 5, 7, 11, 13, 17, 19, 23]"
      ]
     },
     "execution_count": 5,
     "metadata": {},
     "output_type": "execute_result"
    }
   ],
   "source": [
    "eratosthenes(25,verbosity=True) #should print the steps of the algorithm\n",
    "eratosthenes_better(25,verbosity=True)"
   ]
  },
  {
   "cell_type": "code",
   "execution_count": 6,
   "metadata": {
    "hide-output": false
   },
   "outputs": [
    {
     "name": "stdout",
     "output_type": "stream",
     "text": [
      "[1, 2, 3, 5]\n",
      "[1, 2, 3, 5]\n"
     ]
    }
   ],
   "source": [
    "x = eratosthenes(5)\n",
    "print(x) #should print [2,3,5]\n",
    "x = eratosthenes_better(5)\n",
    "print(x) #should print [2,3,5]"
   ]
  },
  {
   "cell_type": "code",
   "execution_count": 7,
   "metadata": {
    "hide-output": false
   },
   "outputs": [
    {
     "name": "stdout",
     "output_type": "stream",
     "text": [
      "Number of primes up to 2500 is  368\n",
      "Number of primes up to 2500 is  368\n"
     ]
    }
   ],
   "source": [
    "x = eratosthenes(2500)\n",
    "print('Number of primes up to 2500 is ',len(x)) #should print \"Number of primes up to 2500 is 368\"\n",
    "x = eratosthenes_better(2500)\n",
    "print('Number of primes up to 2500 is ',len(x)) #should print \"Number of primes up to 2500 is 368\""
   ]
  },
  {
   "cell_type": "markdown",
   "metadata": {},
   "source": [
    "## Task 4\n",
    "\n",
    "Repeat the run time analysis for the improved version of the algorithm, and plot the graph for the two implementations side by side."
   ]
  },
  {
   "cell_type": "code",
   "execution_count": null,
   "metadata": {
    "hide-output": false
   },
   "outputs": [],
   "source": [
    "import matplotlib.pyplot as plt\n",
    "%matplotlib inline\n",
    "plt.rcParams['figure.figsize'] = [12, 8]\n",
    "\n",
    "N = @@@\n",
    "n,x,y = @@@  # lists to accumulate the data\n",
    "for i,k in [(i,@@@) for i in range(N)]:\n",
    "    n[i] = @@@\n",
    "    t = @@@\n",
    "    x[i] = @@@  # run time of original algorithm\n",
    "    t = @@@\n",
    "    y[i] = @@@  # run time of improved algorithm\n",
    "\n",
    "plt.plot(n,x,label='Original algorithm')\n",
    "plt.plot(n,y,label='Improved algorithm')\n",
    "plt.xlabel('upper bound')\n",
    "plt.ylabel('average run time, sec')\n",
    "plt.legend()\n",
    "plt.show()"
   ]
  },
  {
   "cell_type": "code",
   "execution_count": 8,
   "metadata": {
    "hide-output": false
   },
   "outputs": [
    {
     "name": "stdout",
     "output_type": "stream",
     "text": [
      "3.91 µs ± 25.8 ns per loop (mean ± std. dev. of 7 runs, 1000 loops each)\n",
      "2.15 µs ± 182 ns per loop (mean ± std. dev. of 7 runs, 1000 loops each)\n",
      "9 µs ± 845 ns per loop (mean ± std. dev. of 7 runs, 1000 loops each)\n",
      "5.75 µs ± 688 ns per loop (mean ± std. dev. of 7 runs, 1000 loops each)\n",
      "16.9 µs ± 225 ns per loop (mean ± std. dev. of 7 runs, 1000 loops each)\n",
      "8.61 µs ± 1.01 µs per loop (mean ± std. dev. of 7 runs, 1000 loops each)\n",
      "30.3 µs ± 2.07 µs per loop (mean ± std. dev. of 7 runs, 1000 loops each)\n",
      "11.1 µs ± 661 ns per loop (mean ± std. dev. of 7 runs, 1000 loops each)\n",
      "40 µs ± 1.19 µs per loop (mean ± std. dev. of 7 runs, 1000 loops each)\n",
      "16.5 µs ± 1.94 µs per loop (mean ± std. dev. of 7 runs, 1000 loops each)\n",
      "53.7 µs ± 2.05 µs per loop (mean ± std. dev. of 7 runs, 1000 loops each)\n",
      "18.5 µs ± 430 ns per loop (mean ± std. dev. of 7 runs, 1000 loops each)\n",
      "66.9 µs ± 1.24 µs per loop (mean ± std. dev. of 7 runs, 1000 loops each)\n",
      "24 µs ± 1.47 µs per loop (mean ± std. dev. of 7 runs, 1000 loops each)\n",
      "81.8 µs ± 1.78 µs per loop (mean ± std. dev. of 7 runs, 1000 loops each)\n",
      "26.6 µs ± 2.1 µs per loop (mean ± std. dev. of 7 runs, 1000 loops each)\n",
      "104 µs ± 1.71 µs per loop (mean ± std. dev. of 7 runs, 1000 loops each)\n",
      "30.9 µs ± 3.02 µs per loop (mean ± std. dev. of 7 runs, 1000 loops each)\n",
      "125 µs ± 3.14 µs per loop (mean ± std. dev. of 7 runs, 1000 loops each)\n",
      "37.8 µs ± 482 ns per loop (mean ± std. dev. of 7 runs, 1000 loops each)\n",
      "144 µs ± 1.74 µs per loop (mean ± std. dev. of 7 runs, 1000 loops each)\n",
      "44.1 µs ± 2.68 µs per loop (mean ± std. dev. of 7 runs, 1000 loops each)\n",
      "167 µs ± 1.64 µs per loop (mean ± std. dev. of 7 runs, 1000 loops each)\n",
      "47 µs ± 1.77 µs per loop (mean ± std. dev. of 7 runs, 1000 loops each)\n",
      "193 µs ± 2.07 µs per loop (mean ± std. dev. of 7 runs, 1000 loops each)\n",
      "52.3 µs ± 2.92 µs per loop (mean ± std. dev. of 7 runs, 1000 loops each)\n",
      "219 µs ± 2.65 µs per loop (mean ± std. dev. of 7 runs, 1000 loops each)\n",
      "57.2 µs ± 2.93 µs per loop (mean ± std. dev. of 7 runs, 1000 loops each)\n",
      "259 µs ± 3.56 µs per loop (mean ± std. dev. of 7 runs, 1000 loops each)\n",
      "60.5 µs ± 1.63 µs per loop (mean ± std. dev. of 7 runs, 1000 loops each)\n",
      "287 µs ± 2.92 µs per loop (mean ± std. dev. of 7 runs, 1000 loops each)\n",
      "67.1 µs ± 2.74 µs per loop (mean ± std. dev. of 7 runs, 1000 loops each)\n",
      "317 µs ± 5.34 µs per loop (mean ± std. dev. of 7 runs, 1000 loops each)\n",
      "72.9 µs ± 3.31 µs per loop (mean ± std. dev. of 7 runs, 1000 loops each)\n",
      "351 µs ± 3.45 µs per loop (mean ± std. dev. of 7 runs, 1000 loops each)\n",
      "76.7 µs ± 2.64 µs per loop (mean ± std. dev. of 7 runs, 1000 loops each)\n",
      "399 µs ± 15.9 µs per loop (mean ± std. dev. of 7 runs, 1000 loops each)\n",
      "86.4 µs ± 5.74 µs per loop (mean ± std. dev. of 7 runs, 1000 loops each)\n",
      "418 µs ± 14.5 µs per loop (mean ± std. dev. of 7 runs, 1000 loops each)\n",
      "95.8 µs ± 4.57 µs per loop (mean ± std. dev. of 7 runs, 1000 loops each)\n",
      "469 µs ± 13 µs per loop (mean ± std. dev. of 7 runs, 1000 loops each)\n",
      "95.3 µs ± 1.6 µs per loop (mean ± std. dev. of 7 runs, 1000 loops each)\n",
      "521 µs ± 13.5 µs per loop (mean ± std. dev. of 7 runs, 1000 loops each)\n",
      "101 µs ± 1.62 µs per loop (mean ± std. dev. of 7 runs, 1000 loops each)\n",
      "613 µs ± 34.1 µs per loop (mean ± std. dev. of 7 runs, 1000 loops each)\n",
      "114 µs ± 6.55 µs per loop (mean ± std. dev. of 7 runs, 1000 loops each)\n",
      "665 µs ± 29.7 µs per loop (mean ± std. dev. of 7 runs, 1000 loops each)\n",
      "113 µs ± 2.35 µs per loop (mean ± std. dev. of 7 runs, 1000 loops each)\n",
      "633 µs ± 8.8 µs per loop (mean ± std. dev. of 7 runs, 1000 loops each)\n",
      "128 µs ± 4.17 µs per loop (mean ± std. dev. of 7 runs, 1000 loops each)\n"
     ]
    },
    {
     "data": {
      "image/png": "[encoded data removed]",
      "text/plain": [
       "<Figure size 864x576 with 1 Axes>"
      ]
     },
     "metadata": {
      "needs_background": "light"
     },
     "output_type": "display_data"
    }
   ],
   "source": [
    "import matplotlib.pyplot as plt\n",
    "%matplotlib inline\n",
    "plt.rcParams['figure.figsize'] = [12, 8]\n",
    "\n",
    "N = 25\n",
    "n,x,y = [0,]*N, [0,]*N, [0,]*N\n",
    "for i,k in [(i,5+5*i) for i in range(N)]:\n",
    "    n[i] = k\n",
    "    t = %timeit -n1000 -o eratosthenes(k)\n",
    "    x[i] = t.average  # run time of original algorithm\n",
    "    t = %timeit -n1000 -o eratosthenes_better(k)\n",
    "    y[i] = t.average  # run time of improved algorithm\n",
    "\n",
    "plt.plot(n,x,label='Original algorithm')\n",
    "plt.plot(n,y,label='Improved algorithm')\n",
    "plt.xlabel('upper bound')\n",
    "plt.ylabel('run time, sec')\n",
    "plt.legend()\n",
    "plt.show()"
   ]
  },
  {
   "cell_type": "markdown",
   "metadata": {},
   "source": [
    "Note, however, that 1 is not a prime!\n",
    "[https://www.youtube.com/watch?v=IQofiPqhJ_s](https://www.youtube.com/watch?v=IQofiPqhJ_s)"
   ]
  }
 ],
 "metadata": {
  "date": 1598406595.604867,
  "filename": "exercise05.rst",
  "kernelspec": {
   "display_name": "Python 3",
   "language": "python",
   "name": "python3"
  },
  "language_info": {
   "codemirror_mode": {
    "name": "ipython",
    "version": 3
   },
   "file_extension": ".py",
   "mimetype": "text/x-python",
   "name": "python",
   "nbconvert_exporter": "python",
   "pygments_lexer": "ipython3",
   "version": "3.7.6"
  },
  "title": "Weekly exercise 5: Improving Sieves of Eratosthenes algorithm"
 },
 "nbformat": 4,
 "nbformat_minor": 4
}
