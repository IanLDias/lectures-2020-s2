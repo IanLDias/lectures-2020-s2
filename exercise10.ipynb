{
 "cells": [
  {
   "cell_type": "markdown",
   "metadata": {},
   "source": [
    "# Weekly exercise 10: Markov employment transitions\n",
    "\n",
    "Consider a worker who, at any given time can be either\n",
    "\n",
    "- employed full time (x = 2)  \n",
    "- employed part time (x = 1)  \n",
    "- unemployed         (x = 0)  \n",
    "\n",
    "\n",
    "Assume that an unemployed worker finds a part time job with probability $ \\alpha $ and full time job with probability $ \\beta < \\alpha $.\n",
    "\n",
    "A full time worker may loose their job, or transfer to part time job, with probability $ \\gamma $.\n",
    "\n",
    "Further, a part time worker may loose their job, or finds a full time job, with probability $ \\delta $."
   ]
  },
  {
   "cell_type": "markdown",
   "metadata": {},
   "source": [
    "## Tasks:\n",
    "\n",
    "1. Write a function that would return the transition probability matrix given the parameters $ (\\alpha,\\beta,\\gamma,\\delta) $ after making the appropriate checks  \n",
    "1. Assume that initially half of the population has no job, while another half has a full time job.  Simulate the distribution of employment states in the following 50 time periods.  Use what you think are appropriate values of the parameters.  \n",
    "1. Visualize the evolution of the employment states using an area plot  \n",
    "1. Compute the stationary distribution of employment states.  Verify that it coincides with the simulated invariant distribution.  \n",
    "1. Consider an initially unemployed worker.  Simulate employment states for this worker for $ N $ periods.  Compute the fractions of time the worker is in each state, and make a line plot of the three of these fraction with N on the horizontal axis.  Verify that the ergodicity of the invariant distribution.  \n",
    "\n",
    "\n",
    "In your work, do not use other than standard scientific libraries (like NumPy and Pandas).\n",
    "The exercise is inspired by QuantEcon example on [https://python.quantecon.org/finite_markov.html](https://python.quantecon.org/finite_markov.html) which you may find helpful to go though."
   ]
  },
  {
   "cell_type": "code",
   "execution_count": null,
   "metadata": {
    "hide-output": false
   },
   "outputs": [],
   "source": [
    "import numpy as np\n",
    "import matplotlib.pyplot as plt\n",
    "%matplotlib inline\n",
    "plt.rcParams['figure.figsize'] = [12, 8]\n",
    "\n",
    "def TransProbMtrx(α=0.,β=0.,γ=0.,δ=0.):\n",
    "    '''Returns transision probability matrix after the check for parameters in range\n",
    "    '''\n",
    "    M = np.asarray([[1-α-β, α,     β     ],\n",
    "                    [δ,     1-2*δ, δ     ],\n",
    "                    [γ,     γ,     1-2*γ ]])\n",
    "    assert all(0<=M[0]) and all(M[0]<=1), 'Parameters α and β lead to bad transition probabilities'\n",
    "    assert all(0<=M[1]) and all(M[1]<=1), 'Parameter δ leads to bad transition probabilities'\n",
    "    assert all(0<=M[2]) and all(M[2]<=1), 'Parameter γ leads to bad transition probabilities'\n",
    "    return M\n",
    "\n",
    "α,β,γ,δ = 0.075,0.05,0.01,0.02\n",
    "M = TransProbMtrx(α,β,γ,δ)\n",
    "print(M)"
   ]
  },
  {
   "cell_type": "code",
   "execution_count": null,
   "metadata": {
    "hide-output": false
   },
   "outputs": [],
   "source": [
    "# The task is not making completely clear the difference between simulating and computing theoretical distributions.\n",
    "# In this code the distinction is made clear.\n",
    "\n",
    "def DrawDiscreteVector(probs,size=1):\n",
    "    '''Draws n realizations of discrete random variables\n",
    "    generated from given probability distibution (base 0)\n",
    "    '''\n",
    "    probs = np.asarray(probs)\n",
    "    assert probs.ndim == 1, 'Expecting a one-dimensional array of probabilities'\n",
    "    assert np.abs(probs.sum()-1)<1e-10, 'Passed probabilities {} do not sum up to one'.format(probs)\n",
    "    cdf = np.cumsum(probs)  # cumulative distribution\n",
    "    u = np.random.uniform(size=size)  # u(0,1)\n",
    "    d = np.empty(shape=size,dtype=int)\n",
    "    for i in reversed(range(cdf.size)):\n",
    "        d[u<=cdf[i]] = i  # fill index, even if multiple times\n",
    "    return d  # between i-1 and i values of cdf\n",
    "\n",
    "ψ = np.array([.5,0,.5])\n",
    "print(DrawDiscreteVector(ψ,15))  # simulate 15 realization from the same distribution\n",
    "print(DrawDiscreteVector(ψ,(8,4)))  # actually we can do it for any shape"
   ]
  },
  {
   "cell_type": "code",
   "execution_count": null,
   "metadata": {
    "hide-output": false
   },
   "outputs": [],
   "source": [
    "def SimulateMarkovPopulation(P,psi,n=2,T=10,verbose=True):\n",
    "    '''Simulates Markov chain with given transition probability matrix (P),\n",
    "    initial state distribution (psi), a number of paths to simulate (n), and\n",
    "    a number of steps (time periods) to simulate (T)\n",
    "    '''\n",
    "    P = np.asarray(P)  # convert to numpy array\n",
    "    psi = np.asarray(psi)\n",
    "    assert np.all(np.abs(P.sum(axis=1)-1)<1e-10), 'Passed P is not stochastic matrix'\n",
    "    m = psi.size  # number of states in the chain\n",
    "    # simulate the initial state\n",
    "    X = np.empty((n,T+1),dtype=int)  # allocate space for the simulated values\n",
    "    X[:,0] = DrawDiscreteVector(psi,size=n)  # initial values in first column\n",
    "    if verbose:\n",
    "        print('Simulating Markov chain with n={} observations for T={} periods'.format(n,T))\n",
    "        print('t={:<3d} {} initial'.format(0,X[:,0])) if verbose else None\n",
    "    for t in range(1,T+1): # main loop over time\n",
    "        for i in range(m): # loop over states\n",
    "            mask = X[:,t-1]==i  # rows equal to i at t-1\n",
    "            X[mask,t] = DrawDiscreteVector(P[i,:],size=mask.sum())  # simulate using appropriate row of P\n",
    "        print('t={:<3d} {}'.format(t,X[:,t])) if verbose else None\n",
    "    # compute fractions of states\n",
    "    F = np.empty((m,T+1),dtype=float)\n",
    "    for i in range(m): # loop over states\n",
    "        F[i,:] = np.sum(X==i,axis=0) / n\n",
    "    return X,F\n",
    "\n",
    "T=30\n",
    "sim,fr = SimulateMarkovPopulation(M,ψ,n=10,T=T,verbose=True)\n",
    "sim,fr = SimulateMarkovPopulation(M,ψ,n=100,T=T,verbose=False)\n",
    "\n",
    "# make an area plot\n",
    "plt.stackplot(range(T+1),fr,labels=['Unemployed','Employed Part-Time','Employed Full-time'])\n",
    "plt.xlabel('Time', fontsize=12)\n",
    "plt.ylabel('Distribution of the population in fraction of total population',fontsize=12)\n",
    "plt.legend()"
   ]
  },
  {
   "cell_type": "code",
   "execution_count": null,
   "metadata": {
    "hide-output": false
   },
   "outputs": [],
   "source": [
    "def StationaryDistribution(P,psi0=[None,]):\n",
    "    '''Computes stationary distribution for the Markov chain given by transition probability\n",
    "    matrix P. Method: linear solver.\n",
    "    '''\n",
    "    if psi0[0]==None:\n",
    "        # degenrate initial distribution\n",
    "        psi0 = [0,]*P.shape[0]\n",
    "        psi0[0]=1.0\n",
    "    P,psi0 = np.asarray(P),np.asarray(psi0)  # convert to np arrays (in case lists were passed)\n",
    "    assert np.all(np.abs(P.sum(axis=1)-1)<1e-10), 'Passed P is not stochastic matrix'\n",
    "    assert np.abs(psi0.sum()-1)<1e-10, 'Passed probabilities do not sum up to one'\n",
    "    m = P.shape[0]  # dimension of the problem\n",
    "    A = np.ones((m+1,m+1))  # square matrix of ones\n",
    "    A[:-1,:-1] = np.eye(m)-P.T\n",
    "    b = np.ones(m+1)\n",
    "    b[-1]=2\n",
    "    res = np.linalg.solve(A,b)\n",
    "    return res[:-1]\n",
    "\n",
    "st = StationaryDistribution(M)\n",
    "print('Stationary distribution is {}'.format(st))\n",
    "print('Simulated distributions at T={} is {}'.format(T,fr[:,-1]))\n",
    "print('The difference is {}'.format(np.abs(st-fr[:,-1])))\n",
    "print('Conclusion: after simulating the distribution in a population of decent size for a number of the periods, the cross-sectional frequencies are close to the stationary distribution')"
   ]
  },
  {
   "cell_type": "code",
   "execution_count": null,
   "metadata": {
    "hide-output": false
   },
   "outputs": [],
   "source": [
    "N = 1000\n",
    "sim,_ = SimulateMarkovPopulation(M,[1,0,0],n=1,T=N,verbose=False)  # all simulations\n",
    "burnin = N//10  # skipping first periods for burn in\n",
    "t = np.arange(burnin,N)\n",
    "tfr = np.zeros((3,t.size))\n",
    "for i,n in enumerate(t):\n",
    "    tfr[:,i] = np.bincount(sim.ravel()[:n],minlength=3)/n  # counts of each value, after flattening into 1-dim array\n",
    "\n",
    "# plot\n",
    "fig, ax = plt.subplots(figsize=(12,8))\n",
    "ax.plot(t,tfr.T)\n",
    "ax.set_xlabel('Number of simulated periods', fontsize=12)\n",
    "ax.set_ylabel('Fraction of times being in each state',fontsize=12)\n",
    "ax.legend(('Unemployed','Employed Part-Time','Employed Full-time'))"
   ]
  }
 ],
 "metadata": {
  "date": 1599658567.212964,
  "filename": "exercise10.rst",
  "kernelspec": {
   "display_name": "Python",
   "language": "python3",
   "name": "python3"
  },
  "title": "Weekly exercise 10: Markov employment transitions"
 },
 "nbformat": 4,
 "nbformat_minor": 4
}