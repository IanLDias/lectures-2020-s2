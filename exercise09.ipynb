{
 "cells": [
  {
   "cell_type": "markdown",
   "metadata": {},
   "source": [
    "# Weekly exercise 9: Finding the intersection of line segments\n",
    "\n",
    "Given two line segments in $ \\mathbb{R}^2 $ with endpoint\n",
    "coordinates as\n",
    "\n",
    "$$\n",
    "(x^1_1,y^1_1),(x^1_2,y^1_2) \\text{  and  } (x^2_1,y^2_1),(x^2_2,y^2_2),\n",
    "$$\n",
    "\n",
    "where superscripts indicate the segment, subscripts indicate beginning\n",
    "and end of the line, find whether the segments intersect, and if so,\n",
    "what is the intersection point."
   ]
  },
  {
   "cell_type": "markdown",
   "metadata": {},
   "source": [
    "## Method\n",
    "\n",
    "Let intersection be given by $ (x_0,y_0) $, and introduce two more\n",
    "variables $ t_1 $ and $ t_2 $ that equal to the distance from\n",
    "the starting points $ (x^1_1,y^1_1) $ and $ (x^2_1,y^2_1) $ to\n",
    "the intersection point, relative to the corresponding segment lengths.\n",
    "Then we can write the following system of equations\n",
    "\n",
    "$$\n",
    "\\begin{eqnarray*}\n",
    "(x^1_2 - x^1_1) \\cdot t_1 &=& x_0 - x^1_1 \\\\\n",
    "(x^2_2 - x^2_1) \\cdot t_2 &=& x_0 - x^2_1 \\\\\n",
    "(y^1_2 - y^1_1) \\cdot t_1 &=& y_0 - y^1_1 \\\\\n",
    "(y^2_2 - y^2_1) \\cdot t_2 &=& y_0 - y^2_1 \\\\\n",
    "\\end{eqnarray*}\n",
    "$$\n",
    "\n",
    "In matrix notation $ Az=b $ where\n",
    "\n",
    "$$\n",
    "A=\n",
    "\\begin{pmatrix}\n",
    "x^1_2 - x^1_1 & 0 & -1 & 0 \\\\\n",
    "0 & x^2_2 - x^2_1 & -1 & 0 \\\\\n",
    "y^1_2 - y^1_1 & 0 & 0 & -1 \\\\\n",
    "0 & y^2_2 - y^2_1 & 0 & -1 \\\\\n",
    "\\end{pmatrix},\\;\\;\n",
    "b=\\begin{pmatrix}\n",
    "-x^1_1\\\\\n",
    "-x^2_1\\\\\n",
    "-y^1_1\\\\\n",
    "-y^2_1\\\\\n",
    "\\end{pmatrix},\\;\\;\n",
    "z=(t_1,t_2,x_0,y_0)\n",
    "$$\n",
    "\n",
    "After solving the system, we can check $ t_1 $ and $ t_2 $\n",
    "\n",
    "- If both belong to $ [0,1] $, the intersection point exists and is given by the computed $ (x_0,y_0) $  \n",
    "- Otherwise, it the segments do not intersect  "
   ]
  },
  {
   "cell_type": "markdown",
   "metadata": {},
   "source": [
    "## Task\n",
    "\n",
    "Write a function that takes the coordinates of the two line segments as input, and outputs the coordinates of the intersection point, if it exists, and None otherwise.\n",
    "\n",
    "Write several tests to check that your function works correctly in both cases when lines do and do not intersect."
   ]
  },
  {
   "cell_type": "code",
   "execution_count": null,
   "metadata": {
    "hide-output": false
   },
   "outputs": [],
   "source": [
    "# your code here"
   ]
  },
  {
   "cell_type": "code",
   "execution_count": null,
   "metadata": {
    "hide-output": false
   },
   "outputs": [],
   "source": [
    "def intersect_segments(*args):\n",
    "      '''Find intersection point of a segment, or return None\n",
    "      Input: 8 coordinates in the following order\n",
    "         x11,y11 - start of the first line segment\n",
    "         x12,y12 - end of the first line segment\n",
    "         x21,y21 - start of the second line segment\n",
    "         x22,y22 - end of the second line segment\n",
    "      '''\n",
    "      # unpack parameters\n",
    "      x11,y11,x12,y12=args[:4] #first line segment\n",
    "      x21,y21,x22,y22=args[4:] #second line segment\n",
    "      # check if segmets are identical\n",
    "      if np.all(np.abs(np.asarray(args[:4])-np.asarray(args[4:]))<1e-10):\n",
    "            return None\n",
    "      # check if segmets share a point\n",
    "      if np.all(np.abs(np.asarray(args[:2])-np.asarray(args[4:6]))<1e-10):\n",
    "            return None\n",
    "      if np.all(np.abs(np.asarray(args[:2])-np.asarray(args[6:]))<1e-10):\n",
    "            return None\n",
    "      if np.all(np.abs(np.asarray(args[2:4])-np.asarray(args[4:6]))<1e-10):\n",
    "            return None\n",
    "      if np.all(np.abs(np.asarray(args[2:4])-np.asarray(args[6:]))<1e-10):\n",
    "            return None\n",
    "      # bounding box check: whether intersection is possible in principle\n",
    "      bb = ( min(x11,x12)<max(x21,x22) and min(x21,x22)<max(x11,x12) and\n",
    "      min(y11,y12)<max(y21,y22) and min(y21,y22)<max(y11,y12) )\n",
    "      if not bb:\n",
    "            return None\n",
    "      # form system of equations\n",
    "      A = np.array([[x12-x11,0,-1,0],[0,x22-x21,-1,0],[y12-y11,0,0,-1],[0,y22-y21,0,-1]])\n",
    "      b = np.array([-x11,-x21,-y11,-y21])\n",
    "      t1,t2,x0,y0 = np.linalg.solve(A,b)\n",
    "      if 0 <= t1 <= 1 and 0 <= t2 <= 1:\n",
    "            return x0,y0\n",
    "      else:\n",
    "            return None\n",
    "\n",
    "\n",
    "seg1 = (0,3,4,3)\n",
    "seg2 = (1,7,5,.5)\n",
    "print(intersect_segments(*seg1,*seg2))  # using *() expression to unpack tuple to arguments"
   ]
  }
 ],
 "metadata": {
  "date": 1599658567.204496,
  "filename": "exercise09.rst",
  "kernelspec": {
   "display_name": "Python",
   "language": "python3",
   "name": "python3"
  },
  "title": "Weekly exercise 9: Finding the intersection of line segments"
 },
 "nbformat": 4,
 "nbformat_minor": 4
}